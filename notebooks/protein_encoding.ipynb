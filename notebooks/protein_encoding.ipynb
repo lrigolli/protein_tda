{
 "cells": [
  {
   "cell_type": "code",
   "execution_count": 1,
   "id": "1dcff2a5",
   "metadata": {},
   "outputs": [],
   "source": [
    "import os\n",
    "os.chdir('..')"
   ]
  },
  {
   "cell_type": "code",
   "execution_count": 2,
   "id": "8ff667aa",
   "metadata": {},
   "outputs": [],
   "source": [
    "from main_pipeline import tda_encoding_pipeline"
   ]
  },
  {
   "cell_type": "markdown",
   "id": "72ae7454",
   "metadata": {},
   "source": [
    "#### Encode proteins using TDA \n",
    "Which proteins to encode are specified as sequence of PDB-IDs in a .txt file stored in 'data/pdb_ids' directory.\n",
    "The encodings are stored as csv in 'output' directory. Graphical representations of persistence landscapes and diagrams are also in same directory, while 3d-coordinates of proteins are created in 'data' directory."
   ]
  },
  {
   "cell_type": "code",
   "execution_count": 3,
   "id": "4370cfa3",
   "metadata": {},
   "outputs": [
    {
     "name": "stdout",
     "output_type": "stream",
     "text": [
      "Download example PDB files\n",
      "Downloading https://files.rcsb.org/download/1A0R.pdb.gz to ./1A0R.pdb.gz\n",
      "Downloading https://files.rcsb.org/download/1A14.pdb.gz to ./1A14.pdb.gz\n",
      "Downloading https://files.rcsb.org/download/6GYB.pdb.gz to ./6GYB.pdb.gz\n",
      "Store PDB coordinates as json files\n"
     ]
    },
    {
     "name": "stderr",
     "output_type": "stream",
     "text": [
      "/Users/lorenzo/anaconda3/envs/tda_enz_env/lib/python3.11/site-packages/mdtraj/formats/pdb/pdbfile.py:200: UserWarning: Unlikely unit cell vectors detected in PDB file likely resulting from a dummy CRYST1 record. Discarding unit cell vectors.\n",
      "  warnings.warn('Unlikely unit cell vectors detected in PDB file likely '\n"
     ]
    },
    {
     "name": "stdout",
     "output_type": "stream",
     "text": [
      "data chunk: 0\n",
      "Encode proteins using TDA\n",
      "Num workers: 3\n",
      "Reading protein 3d coordinates...\n",
      "Saving option enabled: this can take some time\n",
      "Reading protein 3d coordinates...\n",
      "Saving option enabled: this can take some time\n",
      "Reading protein 3d coordinates...\n",
      "Saving option enabled: this can take some time\n",
      "Reading path: data/example_coord/protein_coords_0.json\n",
      "Num workers: 3\n"
     ]
    },
    {
     "name": "stderr",
     "output_type": "stream",
     "text": [
      "/Users/lorenzo/PycharmProjects/protein_tda/data_scripts/tda_encoding.py:89: UserWarning: Matplotlib is currently using module://matplotlib_inline.backend_inline, which is a non-GUI backend, so cannot show the figure.\n",
      "  fig.show()\n",
      "/Users/lorenzo/PycharmProjects/protein_tda/data_scripts/tda_encoding.py:89: UserWarning: Matplotlib is currently using module://matplotlib_inline.backend_inline, which is a non-GUI backend, so cannot show the figure.\n",
      "  fig.show()\n",
      "/Users/lorenzo/PycharmProjects/protein_tda/data_scripts/tda_encoding.py:89: UserWarning: Matplotlib is currently using module://matplotlib_inline.backend_inline, which is a non-GUI backend, so cannot show the figure.\n",
      "  fig.show()\n",
      "/Users/lorenzo/PycharmProjects/protein_tda/data_scripts/tda_encoding.py:89: UserWarning: Matplotlib is currently using module://matplotlib_inline.backend_inline, which is a non-GUI backend, so cannot show the figure.\n",
      "  fig.show()\n",
      "/Users/lorenzo/PycharmProjects/protein_tda/data_scripts/tda_encoding.py:89: UserWarning: Matplotlib is currently using module://matplotlib_inline.backend_inline, which is a non-GUI backend, so cannot show the figure.\n",
      "  fig.show()\n",
      "/Users/lorenzo/PycharmProjects/protein_tda/data_scripts/tda_encoding.py:89: UserWarning: Matplotlib is currently using module://matplotlib_inline.backend_inline, which is a non-GUI backend, so cannot show the figure.\n",
      "  fig.show()\n"
     ]
    },
    {
     "name": "stdout",
     "output_type": "stream",
     "text": [
      "Encoding completed\n"
     ]
    }
   ],
   "source": [
    "# Encode few sample proteins (encoding all takes time)\n",
    "tda_encoding_pipeline(data_type='example')"
   ]
  },
  {
   "cell_type": "markdown",
   "id": "6182230a",
   "metadata": {},
   "source": [
    "In order to encode proteins of your choice you should create a new txt file \"custom_pdb.txt\" containing a comma separated sequence of PDB-IDs in 'data/pdb_ids' directory and then run 'tda_encoding_pipeline' script using 'custom_pdb' as data_type.  If you wish to encode all protein assemblies you can assign 'proteins_assembly' value to 'data_type' parameter."
   ]
  },
  {
   "cell_type": "code",
   "execution_count": null,
   "id": "da491f6b",
   "metadata": {},
   "outputs": [],
   "source": []
  }
 ],
 "metadata": {
  "kernelspec": {
   "display_name": "tda_enz_env",
   "language": "python",
   "name": "tda_enz_env"
  },
  "language_info": {
   "codemirror_mode": {
    "name": "ipython",
    "version": 3
   },
   "file_extension": ".py",
   "mimetype": "text/x-python",
   "name": "python",
   "nbconvert_exporter": "python",
   "pygments_lexer": "ipython3",
   "version": "3.11.4"
  }
 },
 "nbformat": 4,
 "nbformat_minor": 5
}
